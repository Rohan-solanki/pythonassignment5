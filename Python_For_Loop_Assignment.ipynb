{
 "cells": [
  {
   "cell_type": "code",
   "execution_count": 2,
   "id": "6a02ddfc",
   "metadata": {},
   "outputs": [
    {
     "name": "stdout",
     "output_type": "stream",
     "text": [
      "1\n",
      "2\n",
      "3\n",
      "4\n",
      "5\n",
      "6\n",
      "7\n",
      "8\n",
      "9\n",
      "10\n"
     ]
    }
   ],
   "source": [
    "# Question 1: Print numbers from 1 to 10 using a for loop.\n",
    "for i in range(1, 11):\n",
    "    print(i)"
   ]
  },
  {
   "cell_type": "code",
   "execution_count": 3,
   "id": "d7343774",
   "metadata": {},
   "outputs": [
    {
     "name": "stdout",
     "output_type": "stream",
     "text": [
      "Sum of numbers from 1 to 100 is: 5050\n"
     ]
    }
   ],
   "source": [
    "# Question 2: Find the sum of all numbers from 1 to 100 using a for loop.\n",
    "total = 0\n",
    "for i in range(1, 101):\n",
    "    total += i\n",
    "print(\"Sum of numbers from 1 to 100 is:\", total)"
   ]
  },
  {
   "cell_type": "code",
   "execution_count": 5,
   "id": "b78bd698",
   "metadata": {},
   "outputs": [
    {
     "name": "stdin",
     "output_type": "stream",
     "text": [
      "Enter a number to print its table:  9\n"
     ]
    },
    {
     "name": "stdout",
     "output_type": "stream",
     "text": [
      "9 x 1 = 9\n",
      "9 x 2 = 18\n",
      "9 x 3 = 27\n",
      "9 x 4 = 36\n",
      "9 x 5 = 45\n",
      "9 x 6 = 54\n",
      "9 x 7 = 63\n",
      "9 x 8 = 72\n",
      "9 x 9 = 81\n",
      "9 x 10 = 90\n"
     ]
    }
   ],
   "source": [
    "# Question 3: Print the multiplication table of a given number using a for loop.\n",
    "num = int(input(\"Enter a number to print its table: \"))\n",
    "for i in range(1, 11):\n",
    "    print(num, \"x\", i, \"=\", num * i)"
   ]
  },
  {
   "cell_type": "code",
   "execution_count": 6,
   "id": "b7e3b847",
   "metadata": {},
   "outputs": [
    {
     "name": "stdout",
     "output_type": "stream",
     "text": [
      "Even numbers: 5\n",
      "Odd numbers: 5\n"
     ]
    }
   ],
   "source": [
    "# Question 4: Count the number of even and odd numbers in a list.\n",
    "numbers = [1,2,3,4,5,6,7,8,9,10]\n",
    "even_count = 0\n",
    "odd_count = 0\n",
    "for n in numbers:\n",
    "    if n % 2 == 0:\n",
    "        even_count += 1\n",
    "    else:\n",
    "        odd_count += 1\n",
    "print(\"Even numbers:\", even_count)\n",
    "print(\"Odd numbers:\", odd_count)"
   ]
  },
  {
   "cell_type": "code",
   "execution_count": 7,
   "id": "44a755cc",
   "metadata": {},
   "outputs": [
    {
     "name": "stdin",
     "output_type": "stream",
     "text": [
      "Enter a number to find factorial:  8\n"
     ]
    },
    {
     "name": "stdout",
     "output_type": "stream",
     "text": [
      "Factorial of 8 is 40320\n"
     ]
    }
   ],
   "source": [
    "# Question 5: Find the factorial of a number using a for loop.\n",
    "num = int(input(\"Enter a number to find factorial: \"))\n",
    "fact = 1\n",
    "for i in range(1, num + 1):\n",
    "    fact *= i\n",
    "print(\"Factorial of\", num, \"is\", fact)"
   ]
  },
  {
   "cell_type": "code",
   "execution_count": 8,
   "id": "2cff97a9",
   "metadata": {},
   "outputs": [
    {
     "name": "stdin",
     "output_type": "stream",
     "text": [
      "Enter the limit for Fibonacci sequence:  8\n"
     ]
    },
    {
     "name": "stdout",
     "output_type": "stream",
     "text": [
      "Fibonacci sequence:\n",
      "0 1 1 2 3 5 8 13 \n"
     ]
    }
   ],
   "source": [
    "# Question 6: Print the Fibonacci sequence up to a specified number using a for loop.\n",
    "limit = int(input(\"Enter the limit for Fibonacci sequence: \"))\n",
    "a, b = 0, 1\n",
    "print(\"Fibonacci sequence:\")\n",
    "for i in range(limit):\n",
    "    print(a, end=\" \")\n",
    "    a, b = b, a + b\n",
    "print()"
   ]
  },
  {
   "cell_type": "code",
   "execution_count": 9,
   "id": "a6ea7a63",
   "metadata": {},
   "outputs": [
    {
     "name": "stdin",
     "output_type": "stream",
     "text": [
      "Enter a number to check if prime:  77\n"
     ]
    },
    {
     "name": "stdout",
     "output_type": "stream",
     "text": [
      "77 is Not a Prime number\n"
     ]
    }
   ],
   "source": [
    "# Question 7: Check if a given number is prime using a for loop.\n",
    "num = int(input(\"Enter a number to check if prime: \"))\n",
    "is_prime = True\n",
    "if num < 2:\n",
    "    is_prime = False\n",
    "else:\n",
    "    for i in range(2, num):\n",
    "        if num % i == 0:\n",
    "            is_prime = False\n",
    "            break\n",
    "if is_prime:\n",
    "    print(num, \"is a Prime number\")\n",
    "else:\n",
    "    print(num, \"is Not a Prime number\")"
   ]
  },
  {
   "cell_type": "code",
   "execution_count": 10,
   "id": "fa85342f",
   "metadata": {},
   "outputs": [
    {
     "name": "stdout",
     "output_type": "stream",
     "text": [
      "Largest element is: 12\n"
     ]
    }
   ],
   "source": [
    "# Question 8: Find the largest element in a list using a for loop.\n",
    "lst = [4, 12, 7, 9, 5]\n",
    "largest = lst[0]\n",
    "for n in lst:\n",
    "    if n > largest:\n",
    "        largest = n\n",
    "print(\"Largest element is:\", largest)"
   ]
  },
  {
   "cell_type": "code",
   "execution_count": 11,
   "id": "c871ce03",
   "metadata": {},
   "outputs": [
    {
     "name": "stdin",
     "output_type": "stream",
     "text": [
      "Enter a string:  ffff\n"
     ]
    },
    {
     "name": "stdout",
     "output_type": "stream",
     "text": [
      "Reversed string is: ffff\n"
     ]
    }
   ],
   "source": [
    "# Question 9: Reverse a given string using a for loop.\n",
    "text = input(\"Enter a string: \")\n",
    "reversed_text = \"\"\n",
    "for ch in text:\n",
    "    reversed_text = ch + reversed_text\n",
    "print(\"Reversed string is:\", reversed_text)"
   ]
  },
  {
   "cell_type": "code",
   "execution_count": 12,
   "id": "8f3426cd",
   "metadata": {},
   "outputs": [
    {
     "name": "stdout",
     "output_type": "stream",
     "text": [
      "Common elements are: [1]\n"
     ]
    }
   ],
   "source": [
    "# Question 10: Find the common elements between two lists using a for loop.\n",
    "list1 = [1, 2, 3]\n",
    "list2 = [4, 5, 1]\n",
    "common = []\n",
    "for item in list1:\n",
    "    if item in list2:\n",
    "        common.append(item)\n",
    "print(\"Common elements are:\", common)"
   ]
  }
 ],
 "metadata": {
  "kernelspec": {
   "display_name": "Python [conda env:base] *",
   "language": "python",
   "name": "conda-base-py"
  },
  "language_info": {
   "codemirror_mode": {
    "name": "ipython",
    "version": 3
   },
   "file_extension": ".py",
   "mimetype": "text/x-python",
   "name": "python",
   "nbconvert_exporter": "python",
   "pygments_lexer": "ipython3",
   "version": "3.13.5"
  }
 },
 "nbformat": 4,
 "nbformat_minor": 5
}
